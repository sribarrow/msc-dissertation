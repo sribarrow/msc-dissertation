{
  "nbformat": 4,
  "nbformat_minor": 0,
  "metadata": {
    "colab": {
      "name": "cnn_v1.ipynb",
      "version": "0.3.2",
      "provenance": [],
      "collapsed_sections": [],
      "include_colab_link": true
    },
    "kernelspec": {
      "name": "python3",
      "display_name": "Python 3"
    },
    "accelerator": "GPU"
  },
  "cells": [
    {
      "cell_type": "markdown",
      "metadata": {
        "id": "view-in-github",
        "colab_type": "text"
      },
      "source": [
        "<a href=\"https://colab.research.google.com/github/sribarrow/dissertation/blob/master/cnn_v1.ipynb\" target=\"_parent\"><img src=\"https://colab.research.google.com/assets/colab-badge.svg\" alt=\"Open In Colab\"/></a>"
      ]
    },
    {
      "cell_type": "code",
      "metadata": {
        "id": "BDjDWuI2Fau5",
        "colab_type": "code",
        "outputId": "616d6769-6c45-4945-c459-8c1086467741",
        "colab": {
          "base_uri": "https://localhost:8080/",
          "height": 34
        }
      },
      "source": [
        "import numpy as np\n",
        "import keras\n",
        "from keras import backend as K\n",
        "import tensorflow as tf\n",
        "from keras.preprocessing.image import ImageDataGenerator\n",
        "from keras.models import Sequential\n",
        "from keras.layers import LSTM, Conv2D, MaxPooling2D, Dropout\n",
        "from keras.layers import Dense, Activation, Flatten\n",
        "from keras import optimizers, regularizers"
      ],
      "execution_count": 1,
      "outputs": [
        {
          "output_type": "stream",
          "text": [
            "Using TensorFlow backend.\n"
          ],
          "name": "stderr"
        }
      ]
    },
    {
      "cell_type": "markdown",
      "metadata": {
        "id": "heIJ4h4Kh97L",
        "colab_type": "text"
      },
      "source": [
        "Reference: https://colab.research.google.com/notebooks/gpu.ipynb#scrollTo=3IEVK-KFxi5Z"
      ]
    },
    {
      "cell_type": "code",
      "metadata": {
        "id": "jzjnlaZYNZOQ",
        "colab_type": "code",
        "outputId": "595fa538-4a48-4e90-f8f2-501349d96584",
        "colab": {
          "base_uri": "https://localhost:8080/",
          "height": 34
        }
      },
      "source": [
        "device_name = tf.test.gpu_device_name()\n",
        "if device_name != '/device:GPU:0':\n",
        "  raise SystemError('GPU device not found')\n",
        "print('Found GPU at: {}'.format(device_name))"
      ],
      "execution_count": 2,
      "outputs": [
        {
          "output_type": "stream",
          "text": [
            "Found GPU at: /device:GPU:0\n"
          ],
          "name": "stdout"
        }
      ]
    },
    {
      "cell_type": "code",
      "metadata": {
        "id": "wecjvVzoZNjf",
        "colab_type": "code",
        "colab": {}
      },
      "source": [
        "from tensorflow.python.client import device_lib"
      ],
      "execution_count": 0,
      "outputs": []
    },
    {
      "cell_type": "code",
      "metadata": {
        "id": "1tznkO3-ZiJI",
        "colab_type": "code",
        "outputId": "14dc2aae-36ca-450c-aea8-706bae01b628",
        "colab": {
          "base_uri": "https://localhost:8080/",
          "height": 476
        }
      },
      "source": [
        "device_lib.list_local_devices()"
      ],
      "execution_count": 4,
      "outputs": [
        {
          "output_type": "execute_result",
          "data": {
            "text/plain": [
              "[name: \"/device:CPU:0\"\n",
              " device_type: \"CPU\"\n",
              " memory_limit: 268435456\n",
              " locality {\n",
              " }\n",
              " incarnation: 12492246685155605758, name: \"/device:XLA_CPU:0\"\n",
              " device_type: \"XLA_CPU\"\n",
              " memory_limit: 17179869184\n",
              " locality {\n",
              " }\n",
              " incarnation: 8194939407523460543\n",
              " physical_device_desc: \"device: XLA_CPU device\", name: \"/device:XLA_GPU:0\"\n",
              " device_type: \"XLA_GPU\"\n",
              " memory_limit: 17179869184\n",
              " locality {\n",
              " }\n",
              " incarnation: 1392948797179046075\n",
              " physical_device_desc: \"device: XLA_GPU device\", name: \"/device:GPU:0\"\n",
              " device_type: \"GPU\"\n",
              " memory_limit: 14912199066\n",
              " locality {\n",
              "   bus_id: 1\n",
              "   links {\n",
              "   }\n",
              " }\n",
              " incarnation: 2433809120705814740\n",
              " physical_device_desc: \"device: 0, name: Tesla T4, pci bus id: 0000:00:04.0, compute capability: 7.5\"]"
            ]
          },
          "metadata": {
            "tags": []
          },
          "execution_count": 4
        }
      ]
    },
    {
      "cell_type": "code",
      "metadata": {
        "id": "54IRkJeEQZKb",
        "colab_type": "code",
        "outputId": "443f0af4-2e06-4632-c13c-280ca563fe1f",
        "colab": {
          "base_uri": "https://localhost:8080/",
          "height": 122
        }
      },
      "source": [
        "from google.colab import drive\n",
        "drive.mount('/gdrive')"
      ],
      "execution_count": 5,
      "outputs": [
        {
          "output_type": "stream",
          "text": [
            "Go to this URL in a browser: https://accounts.google.com/o/oauth2/auth?client_id=947318989803-6bn6qk8qdgf4n4g3pfee6491hc0brc4i.apps.googleusercontent.com&redirect_uri=urn%3Aietf%3Awg%3Aoauth%3A2.0%3Aoob&scope=email%20https%3A%2F%2Fwww.googleapis.com%2Fauth%2Fdocs.test%20https%3A%2F%2Fwww.googleapis.com%2Fauth%2Fdrive%20https%3A%2F%2Fwww.googleapis.com%2Fauth%2Fdrive.photos.readonly%20https%3A%2F%2Fwww.googleapis.com%2Fauth%2Fpeopleapi.readonly&response_type=code\n",
            "\n",
            "Enter your authorization code:\n",
            "··········\n",
            "Mounted at /gdrive\n"
          ],
          "name": "stdout"
        }
      ]
    },
    {
      "cell_type": "code",
      "metadata": {
        "id": "tgF70CUHTMVp",
        "colab_type": "code",
        "colab": {}
      },
      "source": [
        "# with open('/gdrive/My Drive/foo.txt', 'w') as f:\n",
        "#   f.write('Hello Google Drive!')\n",
        "# !cat '/gdrive/My Drive/foo.txt'"
      ],
      "execution_count": 0,
      "outputs": []
    },
    {
      "cell_type": "markdown",
      "metadata": {
        "id": "xHrAffSbh2fL",
        "colab_type": "text"
      },
      "source": [
        "Reference: https://github.com/tensorflow/tensorflow/issues/17076\n",
        "\n",
        "Fix for ERROR - report_tensor_allocations_upon_oom"
      ]
    },
    {
      "cell_type": "code",
      "metadata": {
        "id": "nKiJdHRyYmSY",
        "colab_type": "code",
        "colab": {}
      },
      "source": [
        "# config = tf.ConfigProto( device_count = {'GPU': 1 , 'CPU': 1} ) \n",
        "#  sess = tf.Session(config=config) \n",
        "# sess = tf.Session(config=tf.ConfigProto(log_device_placement=True))"
      ],
      "execution_count": 0,
      "outputs": []
    },
    {
      "cell_type": "code",
      "metadata": {
        "id": "-YAbV-fYZzSy",
        "colab_type": "code",
        "outputId": "96e81774-48e2-4ff1-a598-910188a096f0",
        "colab": {
          "base_uri": "https://localhost:8080/",
          "height": 51
        }
      },
      "source": [
        "# Creates a graph.\n",
        "a = tf.constant([1.0, 2.0, 3.0, 4.0, 5.0, 6.0], shape=[2, 3], name='a')\n",
        "b = tf.constant([1.0, 2.0, 3.0, 4.0, 5.0, 6.0], shape=[3, 2], name='b')\n",
        "c = tf.matmul(a, b)\n",
        "# Creates a session with log_device_placement set to True.\n",
        "sess = tf.Session(config=tf.ConfigProto(log_device_placement=True))\n",
        "# Runs the op.\n",
        "print(sess.run(c))"
      ],
      "execution_count": 8,
      "outputs": [
        {
          "output_type": "stream",
          "text": [
            "[[22. 28.]\n",
            " [49. 64.]]\n"
          ],
          "name": "stdout"
        }
      ]
    },
    {
      "cell_type": "code",
      "metadata": {
        "id": "hdtBItk3akh5",
        "colab_type": "code",
        "outputId": "9c18ea64-f6d7-4c4e-cdc8-d58d44ff3350",
        "colab": {
          "base_uri": "https://localhost:8080/",
          "height": 51
        }
      },
      "source": [
        "from tensorflow.core.protobuf import config_pb2\n",
        "sess.run(c, options=config_pb2.RunOptions(\n",
        "        report_tensor_allocations_upon_oom=True))"
      ],
      "execution_count": 9,
      "outputs": [
        {
          "output_type": "execute_result",
          "data": {
            "text/plain": [
              "array([[22., 28.],\n",
              "       [49., 64.]], dtype=float32)"
            ]
          },
          "metadata": {
            "tags": []
          },
          "execution_count": 9
        }
      ]
    },
    {
      "cell_type": "markdown",
      "metadata": {
        "id": "SHEe7I7ciLtI",
        "colab_type": "text"
      },
      "source": [
        "Reference: https://stackoverflow.com/questions/46066850/understanding-the-resourceexhaustederror-oom-when-allocating-tensor-with-shape\n",
        "\n",
        "Fix for ERROR - ResourceExhaustedError: OOM when allocating tensor with shape"
      ]
    },
    {
      "cell_type": "code",
      "metadata": {
        "id": "7Jrrfo5xcNlo",
        "colab_type": "code",
        "colab": {}
      },
      "source": [
        "gpu_options = tf.GPUOptions(allow_growth=True)\n",
        "session = tf.InteractiveSession(config=tf.ConfigProto(gpu_options=gpu_options))"
      ],
      "execution_count": 0,
      "outputs": []
    },
    {
      "cell_type": "code",
      "metadata": {
        "id": "IT9Ec5-VOIRf",
        "colab_type": "code",
        "colab": {}
      },
      "source": [
        "train_path = '/gdrive/My Drive/raag_images/train'\n",
        "valid_path = '/gdrive/My Drive/raag_images/check'\n",
        "test_path = '/gdrive/My Drive/raag_images/test'"
      ],
      "execution_count": 0,
      "outputs": []
    },
    {
      "cell_type": "code",
      "metadata": {
        "id": "QTuggienOshr",
        "colab_type": "code",
        "outputId": "c9014e34-0cb6-4fb5-a184-23562e7aa9ff",
        "colab": {
          "base_uri": "https://localhost:8080/",
          "height": 68
        }
      },
      "source": [
        "train_batches = ImageDataGenerator().flow_from_directory(train_path, target_size=(300,300), classes=['RaagM','RaagS'],  batch_size=32)\n",
        "valid_batches = ImageDataGenerator().flow_from_directory(valid_path,  target_size=(300,300), classes=['RaagM','RaagS'],  batch_size=4)\n",
        "test_batches = ImageDataGenerator().flow_from_directory(test_path,  target_size=(300,300), classes=['RaagM','RaagS'],  batch_size=10)"
      ],
      "execution_count": 12,
      "outputs": [
        {
          "output_type": "stream",
          "text": [
            "Found 576 images belonging to 2 classes.\n",
            "Found 26 images belonging to 2 classes.\n",
            "Found 0 images belonging to 2 classes.\n"
          ],
          "name": "stdout"
        }
      ]
    },
    {
      "cell_type": "code",
      "metadata": {
        "id": "_ysTQUCPcr6t",
        "colab_type": "code",
        "outputId": "5e3bfcf0-afc5-483e-a002-349d7c93062a",
        "colab": {
          "base_uri": "https://localhost:8080/",
          "height": 71
        }
      },
      "source": [
        "gpu_options = tf.GPUOptions(allow_growth=True)\n",
        "session = tf.InteractiveSession(config=tf.ConfigProto(gpu_options=gpu_options))"
      ],
      "execution_count": 13,
      "outputs": [
        {
          "output_type": "stream",
          "text": [
            "/usr/local/lib/python3.6/dist-packages/tensorflow/python/client/session.py:1735: UserWarning: An interactive session is already active. This can cause out-of-memory errors in some cases. You must explicitly call `InteractiveSession.close()` to release resources held by the other session(s).\n",
            "  warnings.warn('An interactive session is already active. This can '\n"
          ],
          "name": "stderr"
        }
      ]
    },
    {
      "cell_type": "code",
      "metadata": {
        "id": "sKAw5r1SSYpi",
        "colab_type": "code",
        "outputId": "47757547-89fc-4363-84d7-6da89d17102b",
        "colab": {
          "base_uri": "https://localhost:8080/",
          "height": 445
        }
      },
      "source": [
        "model = Sequential()\n",
        "model.add(Conv2D(32, (3, 3), padding='same',\n",
        "                 input_shape=(300,300,3)))\n",
        "#model.add(MaxPooling2D(pool_size=(2, 2)))\n",
        "#model.add(Conv2D(64, (3, 3)))\n",
        "model.add(Flatten())\n",
        "model.add(Dense(2, activation='softmax'))\n",
        "model.compile(optimizers.Adam(lr=0.0001),loss=\"categorical_crossentropy\",metrics=[\"accuracy\"])\n",
        "model.summary()\n"
      ],
      "execution_count": 14,
      "outputs": [
        {
          "output_type": "stream",
          "text": [
            "WARNING: Logging before flag parsing goes to stderr.\n",
            "W0825 21:42:49.916176 140265219471232 deprecation_wrapper.py:119] From /usr/local/lib/python3.6/dist-packages/keras/backend/tensorflow_backend.py:74: The name tf.get_default_graph is deprecated. Please use tf.compat.v1.get_default_graph instead.\n",
            "\n",
            "W0825 21:42:49.920051 140265219471232 deprecation_wrapper.py:119] From /usr/local/lib/python3.6/dist-packages/keras/backend/tensorflow_backend.py:517: The name tf.placeholder is deprecated. Please use tf.compat.v1.placeholder instead.\n",
            "\n",
            "W0825 21:42:49.926119 140265219471232 deprecation_wrapper.py:119] From /usr/local/lib/python3.6/dist-packages/keras/backend/tensorflow_backend.py:4138: The name tf.random_uniform is deprecated. Please use tf.random.uniform instead.\n",
            "\n",
            "W0825 21:42:49.979489 140265219471232 deprecation_wrapper.py:119] From /usr/local/lib/python3.6/dist-packages/keras/optimizers.py:790: The name tf.train.Optimizer is deprecated. Please use tf.compat.v1.train.Optimizer instead.\n",
            "\n",
            "W0825 21:42:49.987349 140265219471232 deprecation_wrapper.py:119] From /usr/local/lib/python3.6/dist-packages/keras/backend/tensorflow_backend.py:3295: The name tf.log is deprecated. Please use tf.math.log instead.\n",
            "\n"
          ],
          "name": "stderr"
        },
        {
          "output_type": "stream",
          "text": [
            "_________________________________________________________________\n",
            "Layer (type)                 Output Shape              Param #   \n",
            "=================================================================\n",
            "conv2d_1 (Conv2D)            (None, 300, 300, 32)      896       \n",
            "_________________________________________________________________\n",
            "flatten_1 (Flatten)          (None, 2880000)           0         \n",
            "_________________________________________________________________\n",
            "dense_1 (Dense)              (None, 2)                 5760002   \n",
            "=================================================================\n",
            "Total params: 5,760,898\n",
            "Trainable params: 5,760,898\n",
            "Non-trainable params: 0\n",
            "_________________________________________________________________\n"
          ],
          "name": "stdout"
        }
      ]
    },
    {
      "cell_type": "code",
      "metadata": {
        "id": "dGq-k9rQSYot",
        "colab_type": "code",
        "outputId": "366a2195-916b-4505-a1b7-e0a2e9caaf00",
        "colab": {
          "base_uri": "https://localhost:8080/",
          "height": 51
        }
      },
      "source": [
        "STEP_SIZE_TRAIN=train_batches.n//train_batches.batch_size\n",
        "print(STEP_SIZE_TRAIN)\n",
        "STEP_SIZE_VALID=valid_batches.n//valid_batches.batch_size\n",
        "print(STEP_SIZE_VALID)\n"
      ],
      "execution_count": 15,
      "outputs": [
        {
          "output_type": "stream",
          "text": [
            "18\n",
            "6\n"
          ],
          "name": "stdout"
        }
      ]
    },
    {
      "cell_type": "code",
      "metadata": {
        "id": "QnD4Dzv-Ovax",
        "colab_type": "code",
        "outputId": "ae243dad-28b7-47d1-ce58-292fd4a671f0",
        "colab": {
          "base_uri": "https://localhost:8080/",
          "height": 309
        }
      },
      "source": [
        "model.fit_generator(train_batches, steps_per_epoch=STEP_SIZE_TRAIN, epochs=5, validation_data=valid_batches, validation_steps=STEP_SIZE_VALID)"
      ],
      "execution_count": 16,
      "outputs": [
        {
          "output_type": "stream",
          "text": [
            "W0825 21:42:50.099367 140265219471232 deprecation.py:323] From /usr/local/lib/python3.6/dist-packages/tensorflow/python/ops/math_grad.py:1250: add_dispatch_support.<locals>.wrapper (from tensorflow.python.ops.array_ops) is deprecated and will be removed in a future version.\n",
            "Instructions for updating:\n",
            "Use tf.where in 2.0, which has the same broadcast rule as np.where\n",
            "W0825 21:42:50.144230 140265219471232 deprecation_wrapper.py:119] From /usr/local/lib/python3.6/dist-packages/keras/backend/tensorflow_backend.py:986: The name tf.assign_add is deprecated. Please use tf.compat.v1.assign_add instead.\n",
            "\n"
          ],
          "name": "stderr"
        },
        {
          "output_type": "stream",
          "text": [
            "Epoch 1/5\n",
            "18/18 [==============================] - 199s 11s/step - loss: 7.6997 - acc: 0.5191 - val_loss: 8.0590 - val_acc: 0.5000\n",
            "Epoch 2/5\n",
            "18/18 [==============================] - 4s 248ms/step - loss: 8.0590 - acc: 0.5000 - val_loss: 8.0590 - val_acc: 0.5000\n",
            "Epoch 3/5\n",
            "18/18 [==============================] - 4s 248ms/step - loss: 8.0590 - acc: 0.5000 - val_loss: 8.0590 - val_acc: 0.5000\n",
            "Epoch 4/5\n",
            "18/18 [==============================] - 5s 252ms/step - loss: 8.0590 - acc: 0.5000 - val_loss: 7.3264 - val_acc: 0.5455\n",
            "Epoch 5/5\n",
            "18/18 [==============================] - 4s 247ms/step - loss: 8.0590 - acc: 0.5000 - val_loss: 8.7917 - val_acc: 0.4545\n"
          ],
          "name": "stdout"
        },
        {
          "output_type": "execute_result",
          "data": {
            "text/plain": [
              "<keras.callbacks.History at 0x7f91e6f75438>"
            ]
          },
          "metadata": {
            "tags": []
          },
          "execution_count": 16
        }
      ]
    },
    {
      "cell_type": "code",
      "metadata": {
        "id": "L8OSoaZ2lD4j",
        "colab_type": "code",
        "outputId": "c1af6430-edea-49d8-d613-12662585e3da",
        "colab": {
          "base_uri": "https://localhost:8080/",
          "height": 34
        }
      },
      "source": [
        "model.evaluate_generator(generator=valid_batches, steps=STEP_SIZE_VALID)"
      ],
      "execution_count": 17,
      "outputs": [
        {
          "output_type": "execute_result",
          "data": {
            "text/plain": [
              "[8.059047720649028, 0.5]"
            ]
          },
          "metadata": {
            "tags": []
          },
          "execution_count": 17
        }
      ]
    },
    {
      "cell_type": "markdown",
      "metadata": {
        "id": "8jlOgJ8D2sDz",
        "colab_type": "text"
      },
      "source": [
        "**Fine tuning the model**"
      ]
    },
    {
      "cell_type": "code",
      "metadata": {
        "id": "mA2bGd_NQXHq",
        "colab_type": "code",
        "colab": {}
      },
      "source": [
        "from keras.layers import Input"
      ],
      "execution_count": 0,
      "outputs": []
    },
    {
      "cell_type": "code",
      "metadata": {
        "id": "yMZ42J5OVEAP",
        "colab_type": "code",
        "colab": {}
      },
      "source": [
        "from keras.layers.pooling import AveragePooling2D"
      ],
      "execution_count": 0,
      "outputs": []
    },
    {
      "cell_type": "code",
      "metadata": {
        "id": "8jDGMkVm8HQb",
        "colab_type": "code",
        "colab": {}
      },
      "source": [
        "from keras.applications.vgg16 import VGG16"
      ],
      "execution_count": 0,
      "outputs": []
    },
    {
      "cell_type": "code",
      "metadata": {
        "id": "nYVCU26tRX6j",
        "colab_type": "code",
        "colab": {}
      },
      "source": [
        "#vgg16_model = keras.applications.vgg16.VGG16()\n",
        "#vgg16_model.layers.pop()\n"
      ],
      "execution_count": 0,
      "outputs": []
    },
    {
      "cell_type": "code",
      "metadata": {
        "id": "0T36wB1iRbKI",
        "colab_type": "code",
        "colab": {
          "base_uri": "https://localhost:8080/",
          "height": 105
        },
        "outputId": "24fe1206-d1ce-44f8-bb2f-545fee5ec123"
      },
      "source": [
        "vgg16_model = keras.applications.vgg16.VGG16(include_top=False, input_tensor=Input(shape=(300, 300, 3)))"
      ],
      "execution_count": 21,
      "outputs": [
        {
          "output_type": "stream",
          "text": [
            "W0825 21:46:27.657322 140265219471232 deprecation_wrapper.py:119] From /usr/local/lib/python3.6/dist-packages/keras/backend/tensorflow_backend.py:3976: The name tf.nn.max_pool is deprecated. Please use tf.nn.max_pool2d instead.\n",
            "\n"
          ],
          "name": "stderr"
        },
        {
          "output_type": "stream",
          "text": [
            "Downloading data from https://github.com/fchollet/deep-learning-models/releases/download/v0.1/vgg16_weights_tf_dim_ordering_tf_kernels_notop.h5\n",
            "58892288/58889256 [==============================] - 1s 0us/step\n"
          ],
          "name": "stdout"
        }
      ]
    },
    {
      "cell_type": "code",
      "metadata": {
        "id": "-XATtFxI4V8r",
        "colab_type": "code",
        "colab": {
          "base_uri": "https://localhost:8080/",
          "height": 782
        },
        "outputId": "e380c5ef-fec0-4aee-e226-f868468a0e1b"
      },
      "source": [
        "vgg16_model.summary()"
      ],
      "execution_count": 22,
      "outputs": [
        {
          "output_type": "stream",
          "text": [
            "_________________________________________________________________\n",
            "Layer (type)                 Output Shape              Param #   \n",
            "=================================================================\n",
            "input_1 (InputLayer)         (None, 300, 300, 3)       0         \n",
            "_________________________________________________________________\n",
            "block1_conv1 (Conv2D)        (None, 300, 300, 64)      1792      \n",
            "_________________________________________________________________\n",
            "block1_conv2 (Conv2D)        (None, 300, 300, 64)      36928     \n",
            "_________________________________________________________________\n",
            "block1_pool (MaxPooling2D)   (None, 150, 150, 64)      0         \n",
            "_________________________________________________________________\n",
            "block2_conv1 (Conv2D)        (None, 150, 150, 128)     73856     \n",
            "_________________________________________________________________\n",
            "block2_conv2 (Conv2D)        (None, 150, 150, 128)     147584    \n",
            "_________________________________________________________________\n",
            "block2_pool (MaxPooling2D)   (None, 75, 75, 128)       0         \n",
            "_________________________________________________________________\n",
            "block3_conv1 (Conv2D)        (None, 75, 75, 256)       295168    \n",
            "_________________________________________________________________\n",
            "block3_conv2 (Conv2D)        (None, 75, 75, 256)       590080    \n",
            "_________________________________________________________________\n",
            "block3_conv3 (Conv2D)        (None, 75, 75, 256)       590080    \n",
            "_________________________________________________________________\n",
            "block3_pool (MaxPooling2D)   (None, 37, 37, 256)       0         \n",
            "_________________________________________________________________\n",
            "block4_conv1 (Conv2D)        (None, 37, 37, 512)       1180160   \n",
            "_________________________________________________________________\n",
            "block4_conv2 (Conv2D)        (None, 37, 37, 512)       2359808   \n",
            "_________________________________________________________________\n",
            "block4_conv3 (Conv2D)        (None, 37, 37, 512)       2359808   \n",
            "_________________________________________________________________\n",
            "block4_pool (MaxPooling2D)   (None, 18, 18, 512)       0         \n",
            "_________________________________________________________________\n",
            "block5_conv1 (Conv2D)        (None, 18, 18, 512)       2359808   \n",
            "_________________________________________________________________\n",
            "block5_conv2 (Conv2D)        (None, 18, 18, 512)       2359808   \n",
            "_________________________________________________________________\n",
            "block5_conv3 (Conv2D)        (None, 18, 18, 512)       2359808   \n",
            "_________________________________________________________________\n",
            "block5_pool (MaxPooling2D)   (None, 9, 9, 512)         0         \n",
            "=================================================================\n",
            "Total params: 14,714,688\n",
            "Trainable params: 14,714,688\n",
            "Non-trainable params: 0\n",
            "_________________________________________________________________\n"
          ],
          "name": "stdout"
        }
      ]
    },
    {
      "cell_type": "markdown",
      "metadata": {
        "id": "hhnd2iX2TL0v",
        "colab_type": "text"
      },
      "source": [
        "Fine tuning Reference: https://www.pyimagesearch.com/2019/06/24/change-input-shape-dimensions-for-fine-tuning-with-keras/"
      ]
    },
    {
      "cell_type": "markdown",
      "metadata": {
        "id": "D_td4vcM5ovj",
        "colab_type": "text"
      },
      "source": [
        "**Print the type of this vgg16 model.**\n",
        "\n",
        "*Note this is of type model and not sequential*\n"
      ]
    },
    {
      "cell_type": "code",
      "metadata": {
        "id": "-0oFDsHv4zoP",
        "colab_type": "code",
        "colab": {
          "base_uri": "https://localhost:8080/",
          "height": 34
        },
        "outputId": "29d68a29-627c-49e5-f79f-923d8bc799a9"
      },
      "source": [
        "type(vgg16_model)"
      ],
      "execution_count": 23,
      "outputs": [
        {
          "output_type": "execute_result",
          "data": {
            "text/plain": [
              "keras.engine.training.Model"
            ]
          },
          "metadata": {
            "tags": []
          },
          "execution_count": 23
        }
      ]
    },
    {
      "cell_type": "code",
      "metadata": {
        "id": "sngo3BuWUUNv",
        "colab_type": "code",
        "colab": {}
      },
      "source": [
        "new_model = vgg16_model.output"
      ],
      "execution_count": 0,
      "outputs": []
    },
    {
      "cell_type": "code",
      "metadata": {
        "id": "KNGrqA4RUnQO",
        "colab_type": "code",
        "colab": {
          "base_uri": "https://localhost:8080/",
          "height": 71
        },
        "outputId": "08b62ec8-775f-4d0f-99fd-6a20e28bd034"
      },
      "source": [
        "new_model = AveragePooling2D(pool_size=(4, 4))(new_model)"
      ],
      "execution_count": 25,
      "outputs": [
        {
          "output_type": "stream",
          "text": [
            "W0825 21:46:29.141312 140265219471232 deprecation_wrapper.py:119] From /usr/local/lib/python3.6/dist-packages/keras/backend/tensorflow_backend.py:3980: The name tf.nn.avg_pool is deprecated. Please use tf.nn.avg_pool2d instead.\n",
            "\n"
          ],
          "name": "stderr"
        }
      ]
    },
    {
      "cell_type": "code",
      "metadata": {
        "id": "nlN7Ad7LVk2F",
        "colab_type": "code",
        "colab": {
          "base_uri": "https://localhost:8080/",
          "height": 88
        },
        "outputId": "fc6e9659-978f-4bb4-f100-462944305306"
      },
      "source": [
        "new_model = Flatten(name=\"flatten\")(new_model)\n",
        "new_model = Dense(128, activation=\"relu\")(new_model)\n",
        "new_model = Dropout(0.5)(new_model)\n",
        "new_model = Dense(2, activation=\"softmax\")(new_model)"
      ],
      "execution_count": 26,
      "outputs": [
        {
          "output_type": "stream",
          "text": [
            "W0825 21:46:29.181612 140265219471232 deprecation.py:506] From /usr/local/lib/python3.6/dist-packages/keras/backend/tensorflow_backend.py:3445: calling dropout (from tensorflow.python.ops.nn_ops) with keep_prob is deprecated and will be removed in a future version.\n",
            "Instructions for updating:\n",
            "Please use `rate` instead of `keep_prob`. Rate should be set to `rate = 1 - keep_prob`.\n"
          ],
          "name": "stderr"
        }
      ]
    },
    {
      "cell_type": "code",
      "metadata": {
        "id": "GtoSfsbPXOPj",
        "colab_type": "code",
        "colab": {}
      },
      "source": [
        "from keras.models import Model\n",
        "model = Model(inputs=vgg16_model.input, outputs=new_model)"
      ],
      "execution_count": 0,
      "outputs": []
    },
    {
      "cell_type": "code",
      "metadata": {
        "id": "VhCGceKiXyHF",
        "colab_type": "code",
        "colab": {
          "base_uri": "https://localhost:8080/",
          "height": 952
        },
        "outputId": "0ee1682b-e62a-4304-a8ab-5f2635effd12"
      },
      "source": [
        "model.summary()"
      ],
      "execution_count": 28,
      "outputs": [
        {
          "output_type": "stream",
          "text": [
            "_________________________________________________________________\n",
            "Layer (type)                 Output Shape              Param #   \n",
            "=================================================================\n",
            "input_1 (InputLayer)         (None, 300, 300, 3)       0         \n",
            "_________________________________________________________________\n",
            "block1_conv1 (Conv2D)        (None, 300, 300, 64)      1792      \n",
            "_________________________________________________________________\n",
            "block1_conv2 (Conv2D)        (None, 300, 300, 64)      36928     \n",
            "_________________________________________________________________\n",
            "block1_pool (MaxPooling2D)   (None, 150, 150, 64)      0         \n",
            "_________________________________________________________________\n",
            "block2_conv1 (Conv2D)        (None, 150, 150, 128)     73856     \n",
            "_________________________________________________________________\n",
            "block2_conv2 (Conv2D)        (None, 150, 150, 128)     147584    \n",
            "_________________________________________________________________\n",
            "block2_pool (MaxPooling2D)   (None, 75, 75, 128)       0         \n",
            "_________________________________________________________________\n",
            "block3_conv1 (Conv2D)        (None, 75, 75, 256)       295168    \n",
            "_________________________________________________________________\n",
            "block3_conv2 (Conv2D)        (None, 75, 75, 256)       590080    \n",
            "_________________________________________________________________\n",
            "block3_conv3 (Conv2D)        (None, 75, 75, 256)       590080    \n",
            "_________________________________________________________________\n",
            "block3_pool (MaxPooling2D)   (None, 37, 37, 256)       0         \n",
            "_________________________________________________________________\n",
            "block4_conv1 (Conv2D)        (None, 37, 37, 512)       1180160   \n",
            "_________________________________________________________________\n",
            "block4_conv2 (Conv2D)        (None, 37, 37, 512)       2359808   \n",
            "_________________________________________________________________\n",
            "block4_conv3 (Conv2D)        (None, 37, 37, 512)       2359808   \n",
            "_________________________________________________________________\n",
            "block4_pool (MaxPooling2D)   (None, 18, 18, 512)       0         \n",
            "_________________________________________________________________\n",
            "block5_conv1 (Conv2D)        (None, 18, 18, 512)       2359808   \n",
            "_________________________________________________________________\n",
            "block5_conv2 (Conv2D)        (None, 18, 18, 512)       2359808   \n",
            "_________________________________________________________________\n",
            "block5_conv3 (Conv2D)        (None, 18, 18, 512)       2359808   \n",
            "_________________________________________________________________\n",
            "block5_pool (MaxPooling2D)   (None, 9, 9, 512)         0         \n",
            "_________________________________________________________________\n",
            "average_pooling2d_1 (Average (None, 2, 2, 512)         0         \n",
            "_________________________________________________________________\n",
            "flatten (Flatten)            (None, 2048)              0         \n",
            "_________________________________________________________________\n",
            "dense_2 (Dense)              (None, 128)               262272    \n",
            "_________________________________________________________________\n",
            "dropout_1 (Dropout)          (None, 128)               0         \n",
            "_________________________________________________________________\n",
            "dense_3 (Dense)              (None, 2)                 258       \n",
            "=================================================================\n",
            "Total params: 14,977,218\n",
            "Trainable params: 14,977,218\n",
            "Non-trainable params: 0\n",
            "_________________________________________________________________\n"
          ],
          "name": "stdout"
        }
      ]
    },
    {
      "cell_type": "markdown",
      "metadata": {
        "id": "cKcrV8gO6CQb",
        "colab_type": "text"
      },
      "source": [
        "**Transform the above model to sequential**"
      ]
    },
    {
      "cell_type": "code",
      "metadata": {
        "id": "HI5vbGG1YDD7",
        "colab_type": "code",
        "colab": {}
      },
      "source": [
        "for l in vgg16_model.layers:\n",
        "  layer_trainable=False"
      ],
      "execution_count": 0,
      "outputs": []
    },
    {
      "cell_type": "code",
      "metadata": {
        "id": "-WhvctWS45Ip",
        "colab_type": "code",
        "colab": {
          "base_uri": "https://localhost:8080/",
          "height": 34
        },
        "outputId": "4006f471-88f9-4311-e91e-1a5af00d0b10"
      },
      "source": [
        "seq_model = Sequential()\n",
        "type(seq_model)\n",
        "print(seq_model)"
      ],
      "execution_count": 30,
      "outputs": [
        {
          "output_type": "stream",
          "text": [
            "<keras.engine.sequential.Sequential object at 0x7f919815b470>\n"
          ],
          "name": "stdout"
        }
      ]
    },
    {
      "cell_type": "markdown",
      "metadata": {
        "id": "KZSShrqZAcfm",
        "colab_type": "text"
      },
      "source": [
        "**Add layers from vgg16 to our model**"
      ]
    },
    {
      "cell_type": "code",
      "metadata": {
        "id": "JA_yVOwJ7DKq",
        "colab_type": "code",
        "colab": {
          "base_uri": "https://localhost:8080/",
          "height": 425
        },
        "outputId": "eb9b70e0-afa3-46e2-923f-e035c783fc94"
      },
      "source": [
        "for l in model.layers:\n",
        "  print(l)\n",
        "  seq_model.add(l)"
      ],
      "execution_count": 31,
      "outputs": [
        {
          "output_type": "stream",
          "text": [
            "<keras.engine.input_layer.InputLayer object at 0x7f91e6f75860>\n",
            "<keras.layers.convolutional.Conv2D object at 0x7f915be7a860>\n",
            "<keras.layers.convolutional.Conv2D object at 0x7f915be7a5f8>\n",
            "<keras.layers.pooling.MaxPooling2D object at 0x7f915be64828>\n",
            "<keras.layers.convolutional.Conv2D object at 0x7f915be644a8>\n",
            "<keras.layers.convolutional.Conv2D object at 0x7f915756e6a0>\n",
            "<keras.layers.pooling.MaxPooling2D object at 0x7f91987cfa20>\n",
            "<keras.layers.convolutional.Conv2D object at 0x7f91987cf080>\n",
            "<keras.layers.convolutional.Conv2D object at 0x7f91987f9550>\n",
            "<keras.layers.convolutional.Conv2D object at 0x7f91987f9f28>\n",
            "<keras.layers.pooling.MaxPooling2D object at 0x7f91987a9da0>\n",
            "<keras.layers.convolutional.Conv2D object at 0x7f91987a9400>\n",
            "<keras.layers.convolutional.Conv2D object at 0x7f9198762208>\n",
            "<keras.layers.convolutional.Conv2D object at 0x7f9198762a90>\n",
            "<keras.layers.pooling.MaxPooling2D object at 0x7f9198716a58>\n",
            "<keras.layers.convolutional.Conv2D object at 0x7f91987160b8>\n",
            "<keras.layers.convolutional.Conv2D object at 0x7f91986c1588>\n",
            "<keras.layers.convolutional.Conv2D object at 0x7f91986c1f60>\n",
            "<keras.layers.pooling.MaxPooling2D object at 0x7f91986f0dd8>\n",
            "<keras.layers.pooling.AveragePooling2D object at 0x7f91981fd470>\n",
            "<keras.layers.core.Flatten object at 0x7f9198687a58>\n",
            "<keras.layers.core.Dense object at 0x7f91986a5cc0>\n",
            "<keras.layers.core.Dropout object at 0x7f91e6f75358>\n",
            "<keras.layers.core.Dense object at 0x7f91981c4128>\n"
          ],
          "name": "stdout"
        }
      ]
    },
    {
      "cell_type": "markdown",
      "metadata": {
        "id": "qzn69wXi_B1z",
        "colab_type": "text"
      },
      "source": [
        "**Remove output layer and change it to fit previous**"
      ]
    },
    {
      "cell_type": "code",
      "metadata": {
        "id": "0loV_aP4_hrl",
        "colab_type": "code",
        "colab": {
          "base_uri": "https://localhost:8080/",
          "height": 918
        },
        "outputId": "2455c1d0-8c80-499e-d0ae-2f72344d427e"
      },
      "source": [
        "seq_model.summary()"
      ],
      "execution_count": 32,
      "outputs": [
        {
          "output_type": "stream",
          "text": [
            "_________________________________________________________________\n",
            "Layer (type)                 Output Shape              Param #   \n",
            "=================================================================\n",
            "block1_conv1 (Conv2D)        (None, 300, 300, 64)      1792      \n",
            "_________________________________________________________________\n",
            "block1_conv2 (Conv2D)        (None, 300, 300, 64)      36928     \n",
            "_________________________________________________________________\n",
            "block1_pool (MaxPooling2D)   (None, 150, 150, 64)      0         \n",
            "_________________________________________________________________\n",
            "block2_conv1 (Conv2D)        (None, 150, 150, 128)     73856     \n",
            "_________________________________________________________________\n",
            "block2_conv2 (Conv2D)        (None, 150, 150, 128)     147584    \n",
            "_________________________________________________________________\n",
            "block2_pool (MaxPooling2D)   (None, 75, 75, 128)       0         \n",
            "_________________________________________________________________\n",
            "block3_conv1 (Conv2D)        (None, 75, 75, 256)       295168    \n",
            "_________________________________________________________________\n",
            "block3_conv2 (Conv2D)        (None, 75, 75, 256)       590080    \n",
            "_________________________________________________________________\n",
            "block3_conv3 (Conv2D)        (None, 75, 75, 256)       590080    \n",
            "_________________________________________________________________\n",
            "block3_pool (MaxPooling2D)   (None, 37, 37, 256)       0         \n",
            "_________________________________________________________________\n",
            "block4_conv1 (Conv2D)        (None, 37, 37, 512)       1180160   \n",
            "_________________________________________________________________\n",
            "block4_conv2 (Conv2D)        (None, 37, 37, 512)       2359808   \n",
            "_________________________________________________________________\n",
            "block4_conv3 (Conv2D)        (None, 37, 37, 512)       2359808   \n",
            "_________________________________________________________________\n",
            "block4_pool (MaxPooling2D)   (None, 18, 18, 512)       0         \n",
            "_________________________________________________________________\n",
            "block5_conv1 (Conv2D)        (None, 18, 18, 512)       2359808   \n",
            "_________________________________________________________________\n",
            "block5_conv2 (Conv2D)        (None, 18, 18, 512)       2359808   \n",
            "_________________________________________________________________\n",
            "block5_conv3 (Conv2D)        (None, 18, 18, 512)       2359808   \n",
            "_________________________________________________________________\n",
            "block5_pool (MaxPooling2D)   (None, 9, 9, 512)         0         \n",
            "_________________________________________________________________\n",
            "average_pooling2d_1 (Average (None, 2, 2, 512)         0         \n",
            "_________________________________________________________________\n",
            "flatten (Flatten)            (None, 2048)              0         \n",
            "_________________________________________________________________\n",
            "dense_2 (Dense)              (None, 128)               262272    \n",
            "_________________________________________________________________\n",
            "dropout_1 (Dropout)          (None, 128)               0         \n",
            "_________________________________________________________________\n",
            "dense_3 (Dense)              (None, 2)                 258       \n",
            "=================================================================\n",
            "Total params: 14,977,218\n",
            "Trainable params: 14,977,218\n",
            "Non-trainable params: 0\n",
            "_________________________________________________________________\n"
          ],
          "name": "stdout"
        }
      ]
    },
    {
      "cell_type": "code",
      "metadata": {
        "id": "1NUXuaoLD_is",
        "colab_type": "code",
        "colab": {}
      },
      "source": [
        "opt = optimizers.Adam(lr=1e-4)\n",
        "\n",
        "seq_model.compile(loss=\"binary_crossentropy\", optimizer=opt,\n",
        "\tmetrics=[\"accuracy\"])"
      ],
      "execution_count": 0,
      "outputs": []
    },
    {
      "cell_type": "code",
      "metadata": {
        "id": "_jct5CvhFpRj",
        "colab_type": "code",
        "colab": {
          "base_uri": "https://localhost:8080/",
          "height": 34
        },
        "outputId": "ba637d1b-58ba-4bf3-e70c-8f50374e82ef"
      },
      "source": [
        "seq_model.fit_generator(train_batches, steps_per_epoch=STEP_SIZE_TRAIN, epochs=15, validation_data=valid_batches, validation_steps=STEP_SIZE_VALID, verbose=2)"
      ],
      "execution_count": 0,
      "outputs": [
        {
          "output_type": "stream",
          "text": [
            "Epoch 1/15\n",
            " - 20s - loss: 3.7271e-07 - acc: 1.0000 - val_loss: 8.0728 - val_acc: 0.4545\n",
            "Epoch 2/15\n",
            " - 19s - loss: 1.1171e-06 - acc: 1.0000 - val_loss: 6.9719 - val_acc: 0.5455\n",
            "Epoch 3/15\n",
            " - 19s - loss: 4.0501e-07 - acc: 1.0000 - val_loss: 7.5488 - val_acc: 0.5000\n",
            "Epoch 4/15\n",
            " - 18s - loss: 2.7079e-07 - acc: 1.0000 - val_loss: 8.2499 - val_acc: 0.4545\n",
            "Epoch 5/15\n",
            " - 19s - loss: 5.6520e-07 - acc: 1.0000 - val_loss: 5.4877 - val_acc: 0.6364\n",
            "Epoch 6/15\n",
            " - 19s - loss: 4.2271e-07 - acc: 1.0000 - val_loss: 9.0978 - val_acc: 0.4091\n",
            "Epoch 7/15\n"
          ],
          "name": "stdout"
        }
      ]
    }
  ]
}